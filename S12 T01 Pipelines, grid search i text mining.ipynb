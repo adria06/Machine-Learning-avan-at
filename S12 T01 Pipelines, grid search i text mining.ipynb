{
 "cells": [
  {
   "cell_type": "markdown",
   "id": "18487bab",
   "metadata": {},
   "source": [
    "# S12 T01: Pipelines, grid search i text mining\n",
    "\n",
    "**Objectius:**\n",
    " - Utilitzar pipelines i grid search\n",
    " - Realitzar mineria de texts\n",
    "\n",
    "Recursos de l'aula i https://www.nltk.org\n",
    "\n",
    "Otra biografia de Text mining:\n",
    " - https://www.datacamp.com/community/tutorials/text-analytics-beginners-nltk\n",
    " - https://realpython.com/python-nltk-sentiment-analysis/"
   ]
  },
  {
   "cell_type": "markdown",
   "id": "76128fd0",
   "metadata": {},
   "source": [
    "## Exercici 1\n",
    "**Agafa el conjunt de dades que vulguis i realitza un pipeline i un gridsearch aplicant l'algorisme de Random Forest.**\n"
   ]
  },
  {
   "cell_type": "markdown",
   "id": "a96308c0",
   "metadata": {},
   "source": [
    "We will start building a prototype model\n",
    "\n",
    "Biography: https://www.analyticsvidhya.com/blog/2020/01/build-your-first-machine-learning-pipeline-using-scikit-learn/\n",
    "\n",
    "### Building a prototype model\n",
    "\n",
    "**Data Exploration and Preprocessing**\n",
    "\n",
    "What is the first thing you do when you are provided with a dataset? You would explore the data, go through the individual variables, and clean the data to make it ready for the model building process."
   ]
  },
  {
   "cell_type": "code",
   "execution_count": 83,
   "id": "519e2f3d",
   "metadata": {},
   "outputs": [],
   "source": [
    "import numpy as np\n",
    "import pandas as pd\n",
    "import matplotlib.pyplot as plt\n",
    "import seaborn as sns"
   ]
  },
  {
   "cell_type": "markdown",
   "id": "826432b2",
   "metadata": {},
   "source": [
    "We select an airbnb dataset that contain Barcelona rooms and houses available for rent."
   ]
  },
  {
   "cell_type": "code",
   "execution_count": 84,
   "id": "b2b246fe",
   "metadata": {},
   "outputs": [],
   "source": [
    "# Dataset from https://www.kaggle.com/fermatsavant/airbnb-dataset-of-barcelona-city?select=tomslee_airbnb_barcelona_1477_2017-07-23.csv\n",
    "airbnb_df = pd.read_csv('tomslee_airbnb_barcelona_1477_2017-07-23.csv')"
   ]
  },
  {
   "cell_type": "code",
   "execution_count": 85,
   "id": "b4ea52c5",
   "metadata": {},
   "outputs": [
    {
     "data": {
      "text/html": [
       "<div>\n",
       "<style scoped>\n",
       "    .dataframe tbody tr th:only-of-type {\n",
       "        vertical-align: middle;\n",
       "    }\n",
       "\n",
       "    .dataframe tbody tr th {\n",
       "        vertical-align: top;\n",
       "    }\n",
       "\n",
       "    .dataframe thead th {\n",
       "        text-align: right;\n",
       "    }\n",
       "</style>\n",
       "<table border=\"1\" class=\"dataframe\">\n",
       "  <thead>\n",
       "    <tr style=\"text-align: right;\">\n",
       "      <th></th>\n",
       "      <th>room_id</th>\n",
       "      <th>survey_id</th>\n",
       "      <th>host_id</th>\n",
       "      <th>room_type</th>\n",
       "      <th>country</th>\n",
       "      <th>city</th>\n",
       "      <th>borough</th>\n",
       "      <th>neighborhood</th>\n",
       "      <th>reviews</th>\n",
       "      <th>overall_satisfaction</th>\n",
       "      <th>accommodates</th>\n",
       "      <th>bedrooms</th>\n",
       "      <th>bathrooms</th>\n",
       "      <th>price</th>\n",
       "      <th>minstay</th>\n",
       "      <th>name</th>\n",
       "      <th>last_modified</th>\n",
       "      <th>latitude</th>\n",
       "      <th>longitude</th>\n",
       "      <th>location</th>\n",
       "    </tr>\n",
       "  </thead>\n",
       "  <tbody>\n",
       "    <tr>\n",
       "      <th>0</th>\n",
       "      <td>12331794</td>\n",
       "      <td>1477</td>\n",
       "      <td>41933599</td>\n",
       "      <td>Shared room</td>\n",
       "      <td>NaN</td>\n",
       "      <td>Barcelona</td>\n",
       "      <td>NaN</td>\n",
       "      <td>Eixample</td>\n",
       "      <td>0</td>\n",
       "      <td>0.0</td>\n",
       "      <td>5</td>\n",
       "      <td>1.0</td>\n",
       "      <td>NaN</td>\n",
       "      <td>211.0</td>\n",
       "      <td>NaN</td>\n",
       "      <td>5-bed mixed dorm at Sleep Green Y.H</td>\n",
       "      <td>2017-07-28 14:49:29.434152</td>\n",
       "      <td>41.387023</td>\n",
       "      <td>2.167047</td>\n",
       "      <td>0101000020E6100000C828CFBC1C56014060E63BF889B1...</td>\n",
       "    </tr>\n",
       "    <tr>\n",
       "      <th>1</th>\n",
       "      <td>12331935</td>\n",
       "      <td>1477</td>\n",
       "      <td>41933599</td>\n",
       "      <td>Shared room</td>\n",
       "      <td>NaN</td>\n",
       "      <td>Barcelona</td>\n",
       "      <td>NaN</td>\n",
       "      <td>Eixample</td>\n",
       "      <td>0</td>\n",
       "      <td>0.0</td>\n",
       "      <td>6</td>\n",
       "      <td>1.0</td>\n",
       "      <td>NaN</td>\n",
       "      <td>253.0</td>\n",
       "      <td>NaN</td>\n",
       "      <td>6-bed mixed dorm at Sleep Green Y.H</td>\n",
       "      <td>2017-07-28 14:49:29.431042</td>\n",
       "      <td>41.387658</td>\n",
       "      <td>2.167093</td>\n",
       "      <td>0101000020E6100000CD1FD3DA34560140320400C79EB1...</td>\n",
       "    </tr>\n",
       "    <tr>\n",
       "      <th>2</th>\n",
       "      <td>12332051</td>\n",
       "      <td>1477</td>\n",
       "      <td>41933599</td>\n",
       "      <td>Shared room</td>\n",
       "      <td>NaN</td>\n",
       "      <td>Barcelona</td>\n",
       "      <td>NaN</td>\n",
       "      <td>Eixample</td>\n",
       "      <td>0</td>\n",
       "      <td>0.0</td>\n",
       "      <td>8</td>\n",
       "      <td>1.0</td>\n",
       "      <td>NaN</td>\n",
       "      <td>289.0</td>\n",
       "      <td>NaN</td>\n",
       "      <td>8-bed mixed dorm at ACYHostel</td>\n",
       "      <td>2017-07-28 14:49:29.427665</td>\n",
       "      <td>41.387962</td>\n",
       "      <td>2.165981</td>\n",
       "      <td>0101000020E61000001B0FB6D8ED5301409E0B23BDA8B1...</td>\n",
       "    </tr>\n",
       "    <tr>\n",
       "      <th>3</th>\n",
       "      <td>4627938</td>\n",
       "      <td>1477</td>\n",
       "      <td>23968212</td>\n",
       "      <td>Shared room</td>\n",
       "      <td>NaN</td>\n",
       "      <td>Barcelona</td>\n",
       "      <td>NaN</td>\n",
       "      <td>Eixample</td>\n",
       "      <td>27</td>\n",
       "      <td>4.5</td>\n",
       "      <td>10</td>\n",
       "      <td>1.0</td>\n",
       "      <td>NaN</td>\n",
       "      <td>264.0</td>\n",
       "      <td>NaN</td>\n",
       "      <td>THE HIPSTEL hostel 1 BED IN DORM-10 Shared WC</td>\n",
       "      <td>2017-07-28 14:49:29.424265</td>\n",
       "      <td>41.391617</td>\n",
       "      <td>2.162516</td>\n",
       "      <td>0101000020E6100000289D4830D54C014060C77F8120B2...</td>\n",
       "    </tr>\n",
       "    <tr>\n",
       "      <th>4</th>\n",
       "      <td>12331497</td>\n",
       "      <td>1477</td>\n",
       "      <td>41933599</td>\n",
       "      <td>Shared room</td>\n",
       "      <td>NaN</td>\n",
       "      <td>Barcelona</td>\n",
       "      <td>NaN</td>\n",
       "      <td>Eixample</td>\n",
       "      <td>0</td>\n",
       "      <td>0.0</td>\n",
       "      <td>4</td>\n",
       "      <td>1.0</td>\n",
       "      <td>NaN</td>\n",
       "      <td>169.0</td>\n",
       "      <td>NaN</td>\n",
       "      <td>4-bed mixed dorm at Sleep Green Y.H</td>\n",
       "      <td>2017-07-28 14:49:25.542467</td>\n",
       "      <td>41.386288</td>\n",
       "      <td>2.165477</td>\n",
       "      <td>0101000020E6100000EAEBF99AE55201402B6B9BE271B1...</td>\n",
       "    </tr>\n",
       "  </tbody>\n",
       "</table>\n",
       "</div>"
      ],
      "text/plain": [
       "    room_id  survey_id   host_id    room_type  country       city  borough  \\\n",
       "0  12331794       1477  41933599  Shared room      NaN  Barcelona      NaN   \n",
       "1  12331935       1477  41933599  Shared room      NaN  Barcelona      NaN   \n",
       "2  12332051       1477  41933599  Shared room      NaN  Barcelona      NaN   \n",
       "3   4627938       1477  23968212  Shared room      NaN  Barcelona      NaN   \n",
       "4  12331497       1477  41933599  Shared room      NaN  Barcelona      NaN   \n",
       "\n",
       "  neighborhood  reviews  overall_satisfaction  accommodates  bedrooms  \\\n",
       "0     Eixample        0                   0.0             5       1.0   \n",
       "1     Eixample        0                   0.0             6       1.0   \n",
       "2     Eixample        0                   0.0             8       1.0   \n",
       "3     Eixample       27                   4.5            10       1.0   \n",
       "4     Eixample        0                   0.0             4       1.0   \n",
       "\n",
       "   bathrooms  price  minstay                                           name  \\\n",
       "0        NaN  211.0      NaN            5-bed mixed dorm at Sleep Green Y.H   \n",
       "1        NaN  253.0      NaN            6-bed mixed dorm at Sleep Green Y.H   \n",
       "2        NaN  289.0      NaN                  8-bed mixed dorm at ACYHostel   \n",
       "3        NaN  264.0      NaN  THE HIPSTEL hostel 1 BED IN DORM-10 Shared WC   \n",
       "4        NaN  169.0      NaN            4-bed mixed dorm at Sleep Green Y.H   \n",
       "\n",
       "                last_modified   latitude  longitude  \\\n",
       "0  2017-07-28 14:49:29.434152  41.387023   2.167047   \n",
       "1  2017-07-28 14:49:29.431042  41.387658   2.167093   \n",
       "2  2017-07-28 14:49:29.427665  41.387962   2.165981   \n",
       "3  2017-07-28 14:49:29.424265  41.391617   2.162516   \n",
       "4  2017-07-28 14:49:25.542467  41.386288   2.165477   \n",
       "\n",
       "                                            location  \n",
       "0  0101000020E6100000C828CFBC1C56014060E63BF889B1...  \n",
       "1  0101000020E6100000CD1FD3DA34560140320400C79EB1...  \n",
       "2  0101000020E61000001B0FB6D8ED5301409E0B23BDA8B1...  \n",
       "3  0101000020E6100000289D4830D54C014060C77F8120B2...  \n",
       "4  0101000020E6100000EAEBF99AE55201402B6B9BE271B1...  "
      ]
     },
     "execution_count": 85,
     "metadata": {},
     "output_type": "execute_result"
    }
   ],
   "source": [
    "airbnb_df.head()"
   ]
  },
  {
   "cell_type": "code",
   "execution_count": 86,
   "id": "00de7474",
   "metadata": {
    "scrolled": true
   },
   "outputs": [
    {
     "name": "stdout",
     "output_type": "stream",
     "text": [
      "<class 'pandas.core.frame.DataFrame'>\n",
      "RangeIndex: 18838 entries, 0 to 18837\n",
      "Data columns (total 20 columns):\n",
      " #   Column                Non-Null Count  Dtype  \n",
      "---  ------                --------------  -----  \n",
      " 0   room_id               18838 non-null  int64  \n",
      " 1   survey_id             18838 non-null  int64  \n",
      " 2   host_id               18838 non-null  int64  \n",
      " 3   room_type             18838 non-null  object \n",
      " 4   country               0 non-null      float64\n",
      " 5   city                  18838 non-null  object \n",
      " 6   borough               0 non-null      float64\n",
      " 7   neighborhood          18838 non-null  object \n",
      " 8   reviews               18838 non-null  int64  \n",
      " 9   overall_satisfaction  18838 non-null  float64\n",
      " 10  accommodates          18838 non-null  int64  \n",
      " 11  bedrooms              18838 non-null  float64\n",
      " 12  bathrooms             0 non-null      float64\n",
      " 13  price                 18838 non-null  float64\n",
      " 14  minstay               0 non-null      float64\n",
      " 15  name                  18791 non-null  object \n",
      " 16  last_modified         18838 non-null  object \n",
      " 17  latitude              18838 non-null  float64\n",
      " 18  longitude             18838 non-null  float64\n",
      " 19  location              18838 non-null  object \n",
      "dtypes: float64(9), int64(5), object(6)\n",
      "memory usage: 2.9+ MB\n"
     ]
    }
   ],
   "source": [
    "airbnb_df.info()"
   ]
  },
  {
   "cell_type": "code",
   "execution_count": 87,
   "id": "7ca66f49",
   "metadata": {},
   "outputs": [
    {
     "data": {
      "text/plain": [
       "(18838, 20)"
      ]
     },
     "execution_count": 87,
     "metadata": {},
     "output_type": "execute_result"
    }
   ],
   "source": [
    "airbnb_df.shape"
   ]
  },
  {
   "cell_type": "code",
   "execution_count": 88,
   "id": "0098b836",
   "metadata": {},
   "outputs": [
    {
     "data": {
      "text/plain": [
       "Index(['room_id', 'survey_id', 'host_id', 'room_type', 'country', 'city',\n",
       "       'borough', 'neighborhood', 'reviews', 'overall_satisfaction',\n",
       "       'accommodates', 'bedrooms', 'bathrooms', 'price', 'minstay', 'name',\n",
       "       'last_modified', 'latitude', 'longitude', 'location'],\n",
       "      dtype='object')"
      ]
     },
     "execution_count": 88,
     "metadata": {},
     "output_type": "execute_result"
    }
   ],
   "source": [
    "airbnb_df.columns\n"
   ]
  },
  {
   "cell_type": "code",
   "execution_count": 89,
   "id": "87edb028",
   "metadata": {},
   "outputs": [],
   "source": [
    "# Remove un-necessary columns that do not add any value or do not have any information\n",
    "airbnb_df.drop(['room_id', 'survey_id', 'host_id', 'country', 'city',\n",
    "       'borough', 'bathrooms', 'minstay', 'name',\n",
    "       'last_modified', 'latitude', 'longitude', 'location'], axis=1, inplace=True)"
   ]
  },
  {
   "cell_type": "code",
   "execution_count": 90,
   "id": "6dd2f415",
   "metadata": {},
   "outputs": [
    {
     "data": {
      "text/html": [
       "<div>\n",
       "<style scoped>\n",
       "    .dataframe tbody tr th:only-of-type {\n",
       "        vertical-align: middle;\n",
       "    }\n",
       "\n",
       "    .dataframe tbody tr th {\n",
       "        vertical-align: top;\n",
       "    }\n",
       "\n",
       "    .dataframe thead th {\n",
       "        text-align: right;\n",
       "    }\n",
       "</style>\n",
       "<table border=\"1\" class=\"dataframe\">\n",
       "  <thead>\n",
       "    <tr style=\"text-align: right;\">\n",
       "      <th></th>\n",
       "      <th>room_type</th>\n",
       "      <th>neighborhood</th>\n",
       "      <th>reviews</th>\n",
       "      <th>overall_satisfaction</th>\n",
       "      <th>accommodates</th>\n",
       "      <th>bedrooms</th>\n",
       "      <th>price</th>\n",
       "    </tr>\n",
       "  </thead>\n",
       "  <tbody>\n",
       "    <tr>\n",
       "      <th>0</th>\n",
       "      <td>Shared room</td>\n",
       "      <td>Eixample</td>\n",
       "      <td>0</td>\n",
       "      <td>0.0</td>\n",
       "      <td>5</td>\n",
       "      <td>1.0</td>\n",
       "      <td>211.0</td>\n",
       "    </tr>\n",
       "    <tr>\n",
       "      <th>1</th>\n",
       "      <td>Shared room</td>\n",
       "      <td>Eixample</td>\n",
       "      <td>0</td>\n",
       "      <td>0.0</td>\n",
       "      <td>6</td>\n",
       "      <td>1.0</td>\n",
       "      <td>253.0</td>\n",
       "    </tr>\n",
       "    <tr>\n",
       "      <th>2</th>\n",
       "      <td>Shared room</td>\n",
       "      <td>Eixample</td>\n",
       "      <td>0</td>\n",
       "      <td>0.0</td>\n",
       "      <td>8</td>\n",
       "      <td>1.0</td>\n",
       "      <td>289.0</td>\n",
       "    </tr>\n",
       "    <tr>\n",
       "      <th>3</th>\n",
       "      <td>Shared room</td>\n",
       "      <td>Eixample</td>\n",
       "      <td>27</td>\n",
       "      <td>4.5</td>\n",
       "      <td>10</td>\n",
       "      <td>1.0</td>\n",
       "      <td>264.0</td>\n",
       "    </tr>\n",
       "    <tr>\n",
       "      <th>4</th>\n",
       "      <td>Shared room</td>\n",
       "      <td>Eixample</td>\n",
       "      <td>0</td>\n",
       "      <td>0.0</td>\n",
       "      <td>4</td>\n",
       "      <td>1.0</td>\n",
       "      <td>169.0</td>\n",
       "    </tr>\n",
       "  </tbody>\n",
       "</table>\n",
       "</div>"
      ],
      "text/plain": [
       "     room_type neighborhood  reviews  overall_satisfaction  accommodates  \\\n",
       "0  Shared room     Eixample        0                   0.0             5   \n",
       "1  Shared room     Eixample        0                   0.0             6   \n",
       "2  Shared room     Eixample        0                   0.0             8   \n",
       "3  Shared room     Eixample       27                   4.5            10   \n",
       "4  Shared room     Eixample        0                   0.0             4   \n",
       "\n",
       "   bedrooms  price  \n",
       "0       1.0  211.0  \n",
       "1       1.0  253.0  \n",
       "2       1.0  289.0  \n",
       "3       1.0  264.0  \n",
       "4       1.0  169.0  "
      ]
     },
     "execution_count": 90,
     "metadata": {},
     "output_type": "execute_result"
    }
   ],
   "source": [
    "airbnb_df.head()"
   ]
  },
  {
   "cell_type": "code",
   "execution_count": 91,
   "id": "20f418c9",
   "metadata": {},
   "outputs": [
    {
     "data": {
      "text/plain": [
       "Private room       9821\n",
       "Entire home/apt    8877\n",
       "Shared room         140\n",
       "Name: room_type, dtype: int64"
      ]
     },
     "execution_count": 91,
     "metadata": {},
     "output_type": "execute_result"
    }
   ],
   "source": [
    "airbnb_df.room_type.value_counts()"
   ]
  },
  {
   "cell_type": "markdown",
   "id": "a4a44a10",
   "metadata": {},
   "source": [
    "We assume that we are interested only on entire home/apartments, so we remove the rest of the rows"
   ]
  },
  {
   "cell_type": "code",
   "execution_count": 92,
   "id": "c305fe91",
   "metadata": {},
   "outputs": [],
   "source": [
    "airbnb_df2 = airbnb_df[airbnb_df['room_type'] == 'Entire home/apt']"
   ]
  },
  {
   "cell_type": "code",
   "execution_count": 93,
   "id": "c7f93cb0",
   "metadata": {},
   "outputs": [
    {
     "name": "stderr",
     "output_type": "stream",
     "text": [
      "C:\\ProgramData\\Anaconda3\\lib\\site-packages\\pandas\\core\\frame.py:4906: SettingWithCopyWarning: \n",
      "A value is trying to be set on a copy of a slice from a DataFrame\n",
      "\n",
      "See the caveats in the documentation: https://pandas.pydata.org/pandas-docs/stable/user_guide/indexing.html#returning-a-view-versus-a-copy\n",
      "  return super().drop(\n"
     ]
    }
   ],
   "source": [
    "airbnb_df2.drop('room_type', axis=1, inplace = True)"
   ]
  },
  {
   "cell_type": "code",
   "execution_count": 94,
   "id": "43e71ebe",
   "metadata": {},
   "outputs": [
    {
     "data": {
      "text/plain": [
       "(8877, 6)"
      ]
     },
     "execution_count": 94,
     "metadata": {},
     "output_type": "execute_result"
    }
   ],
   "source": [
    "airbnb_df2.shape"
   ]
  },
  {
   "cell_type": "code",
   "execution_count": 95,
   "id": "7521187e",
   "metadata": {},
   "outputs": [
    {
     "name": "stdout",
     "output_type": "stream",
     "text": [
      "<class 'pandas.core.frame.DataFrame'>\n",
      "Int64Index: 8877 entries, 140 to 9357\n",
      "Data columns (total 6 columns):\n",
      " #   Column                Non-Null Count  Dtype  \n",
      "---  ------                --------------  -----  \n",
      " 0   neighborhood          8877 non-null   object \n",
      " 1   reviews               8877 non-null   int64  \n",
      " 2   overall_satisfaction  8877 non-null   float64\n",
      " 3   accommodates          8877 non-null   int64  \n",
      " 4   bedrooms              8877 non-null   float64\n",
      " 5   price                 8877 non-null   float64\n",
      "dtypes: float64(3), int64(2), object(1)\n",
      "memory usage: 485.5+ KB\n"
     ]
    }
   ],
   "source": [
    "airbnb_df2.info()"
   ]
  },
  {
   "cell_type": "markdown",
   "id": "a806a802",
   "metadata": {},
   "source": [
    "We investigate which is the correlation in between the variables."
   ]
  },
  {
   "cell_type": "code",
   "execution_count": 96,
   "id": "6b0dbfb6",
   "metadata": {},
   "outputs": [
    {
     "data": {
      "text/html": [
       "<div>\n",
       "<style scoped>\n",
       "    .dataframe tbody tr th:only-of-type {\n",
       "        vertical-align: middle;\n",
       "    }\n",
       "\n",
       "    .dataframe tbody tr th {\n",
       "        vertical-align: top;\n",
       "    }\n",
       "\n",
       "    .dataframe thead th {\n",
       "        text-align: right;\n",
       "    }\n",
       "</style>\n",
       "<table border=\"1\" class=\"dataframe\">\n",
       "  <thead>\n",
       "    <tr style=\"text-align: right;\">\n",
       "      <th></th>\n",
       "      <th>reviews</th>\n",
       "      <th>overall_satisfaction</th>\n",
       "      <th>accommodates</th>\n",
       "      <th>bedrooms</th>\n",
       "      <th>price</th>\n",
       "    </tr>\n",
       "  </thead>\n",
       "  <tbody>\n",
       "    <tr>\n",
       "      <th>reviews</th>\n",
       "      <td>1.000000</td>\n",
       "      <td>0.456976</td>\n",
       "      <td>0.008084</td>\n",
       "      <td>-0.020335</td>\n",
       "      <td>-0.152785</td>\n",
       "    </tr>\n",
       "    <tr>\n",
       "      <th>overall_satisfaction</th>\n",
       "      <td>0.456976</td>\n",
       "      <td>1.000000</td>\n",
       "      <td>0.034264</td>\n",
       "      <td>0.023855</td>\n",
       "      <td>-0.150285</td>\n",
       "    </tr>\n",
       "    <tr>\n",
       "      <th>accommodates</th>\n",
       "      <td>0.008084</td>\n",
       "      <td>0.034264</td>\n",
       "      <td>1.000000</td>\n",
       "      <td>0.790484</td>\n",
       "      <td>0.410868</td>\n",
       "    </tr>\n",
       "    <tr>\n",
       "      <th>bedrooms</th>\n",
       "      <td>-0.020335</td>\n",
       "      <td>0.023855</td>\n",
       "      <td>0.790484</td>\n",
       "      <td>1.000000</td>\n",
       "      <td>0.405557</td>\n",
       "    </tr>\n",
       "    <tr>\n",
       "      <th>price</th>\n",
       "      <td>-0.152785</td>\n",
       "      <td>-0.150285</td>\n",
       "      <td>0.410868</td>\n",
       "      <td>0.405557</td>\n",
       "      <td>1.000000</td>\n",
       "    </tr>\n",
       "  </tbody>\n",
       "</table>\n",
       "</div>"
      ],
      "text/plain": [
       "                       reviews  overall_satisfaction  accommodates  bedrooms  \\\n",
       "reviews               1.000000              0.456976      0.008084 -0.020335   \n",
       "overall_satisfaction  0.456976              1.000000      0.034264  0.023855   \n",
       "accommodates          0.008084              0.034264      1.000000  0.790484   \n",
       "bedrooms             -0.020335              0.023855      0.790484  1.000000   \n",
       "price                -0.152785             -0.150285      0.410868  0.405557   \n",
       "\n",
       "                         price  \n",
       "reviews              -0.152785  \n",
       "overall_satisfaction -0.150285  \n",
       "accommodates          0.410868  \n",
       "bedrooms              0.405557  \n",
       "price                 1.000000  "
      ]
     },
     "execution_count": 96,
     "metadata": {},
     "output_type": "execute_result"
    }
   ],
   "source": [
    "airbnb_df2.corr()"
   ]
  },
  {
   "cell_type": "markdown",
   "id": "f10dfbdf",
   "metadata": {},
   "source": [
    "The correlations of all variables is low. Variables 'accomodats' and 'bedrooms' have the best correlation with price, but they have a very strong correlation in between them. Normally better to remove one of the two variables, but before we do it we are going to check graphically the dispersion of the values and the correlation using both variables."
   ]
  },
  {
   "cell_type": "code",
   "execution_count": 97,
   "id": "ad241eb4",
   "metadata": {},
   "outputs": [
    {
     "data": {
      "image/png": "[encoded data removed]",
      "text/plain": [
       "<Figure size 432x288 with 1 Axes>"
      ]
     },
     "metadata": {
      "needs_background": "light"
     },
     "output_type": "display_data"
    }
   ],
   "source": [
    "sns.scatterplot(data = airbnb_df2, x = \"accommodates\", y = \"price\");"
   ]
  },
  {
   "cell_type": "markdown",
   "id": "912fd9e8",
   "metadata": {},
   "source": [
    "The graph shows a wide dispersion which mean that it will be difficult to get a good model representation. We try to compare if the dispersion is similar in all neighborhoods or not."
   ]
  },
  {
   "cell_type": "code",
   "execution_count": 98,
   "id": "f925dd64",
   "metadata": {},
   "outputs": [
    {
     "data": {
      "image/png": "[encoded data removed]",
      "text/plain": [
       "<Figure size 1213x432 with 10 Axes>"
      ]
     },
     "metadata": {
      "needs_background": "light"
     },
     "output_type": "display_data"
    }
   ],
   "source": [
    "grid = sns.FacetGrid(airbnb_df2, col = \"neighborhood\", hue = \"neighborhood\", col_wrap=5)\n",
    "grid.map(sns.scatterplot, \"accommodates\", \"price\")\n",
    "\n",
    "grid.add_legend();"
   ]
  },
  {
   "cell_type": "markdown",
   "id": "474f60e6",
   "metadata": {},
   "source": [
    "We noted that the wide dispersion is common in most of the neighbohoods. The trend seems to have an \n",
    "increase of price when the number of bedrooms increase."
   ]
  },
  {
   "cell_type": "code",
   "execution_count": 99,
   "id": "ed9b6ae6",
   "metadata": {},
   "outputs": [
    {
     "data": {
      "text/html": [
       "<div>\n",
       "<style scoped>\n",
       "    .dataframe tbody tr th:only-of-type {\n",
       "        vertical-align: middle;\n",
       "    }\n",
       "\n",
       "    .dataframe tbody tr th {\n",
       "        vertical-align: top;\n",
       "    }\n",
       "\n",
       "    .dataframe thead th {\n",
       "        text-align: right;\n",
       "    }\n",
       "</style>\n",
       "<table border=\"1\" class=\"dataframe\">\n",
       "  <thead>\n",
       "    <tr style=\"text-align: right;\">\n",
       "      <th></th>\n",
       "      <th>reviews</th>\n",
       "      <th>overall_satisfaction</th>\n",
       "      <th>accommodates</th>\n",
       "      <th>bedrooms</th>\n",
       "      <th>price</th>\n",
       "    </tr>\n",
       "  </thead>\n",
       "  <tbody>\n",
       "    <tr>\n",
       "      <th>count</th>\n",
       "      <td>8877.000000</td>\n",
       "      <td>8877.000000</td>\n",
       "      <td>8877.000000</td>\n",
       "      <td>8877.000000</td>\n",
       "      <td>8877.000000</td>\n",
       "    </tr>\n",
       "    <tr>\n",
       "      <th>mean</th>\n",
       "      <td>27.592317</td>\n",
       "      <td>3.064042</td>\n",
       "      <td>4.813676</td>\n",
       "      <td>2.060944</td>\n",
       "      <td>171.857272</td>\n",
       "    </tr>\n",
       "    <tr>\n",
       "      <th>std</th>\n",
       "      <td>42.258221</td>\n",
       "      <td>2.137190</td>\n",
       "      <td>2.227684</td>\n",
       "      <td>1.149878</td>\n",
       "      <td>145.855784</td>\n",
       "    </tr>\n",
       "    <tr>\n",
       "      <th>min</th>\n",
       "      <td>0.000000</td>\n",
       "      <td>0.000000</td>\n",
       "      <td>1.000000</td>\n",
       "      <td>0.000000</td>\n",
       "      <td>11.000000</td>\n",
       "    </tr>\n",
       "    <tr>\n",
       "      <th>25%</th>\n",
       "      <td>1.000000</td>\n",
       "      <td>0.000000</td>\n",
       "      <td>4.000000</td>\n",
       "      <td>1.000000</td>\n",
       "      <td>102.000000</td>\n",
       "    </tr>\n",
       "    <tr>\n",
       "      <th>50%</th>\n",
       "      <td>9.000000</td>\n",
       "      <td>4.500000</td>\n",
       "      <td>4.000000</td>\n",
       "      <td>2.000000</td>\n",
       "      <td>137.000000</td>\n",
       "    </tr>\n",
       "    <tr>\n",
       "      <th>75%</th>\n",
       "      <td>37.000000</td>\n",
       "      <td>4.500000</td>\n",
       "      <td>6.000000</td>\n",
       "      <td>3.000000</td>\n",
       "      <td>192.000000</td>\n",
       "    </tr>\n",
       "    <tr>\n",
       "      <th>max</th>\n",
       "      <td>360.000000</td>\n",
       "      <td>5.000000</td>\n",
       "      <td>16.000000</td>\n",
       "      <td>10.000000</td>\n",
       "      <td>3606.000000</td>\n",
       "    </tr>\n",
       "  </tbody>\n",
       "</table>\n",
       "</div>"
      ],
      "text/plain": [
       "           reviews  overall_satisfaction  accommodates     bedrooms  \\\n",
       "count  8877.000000           8877.000000   8877.000000  8877.000000   \n",
       "mean     27.592317              3.064042      4.813676     2.060944   \n",
       "std      42.258221              2.137190      2.227684     1.149878   \n",
       "min       0.000000              0.000000      1.000000     0.000000   \n",
       "25%       1.000000              0.000000      4.000000     1.000000   \n",
       "50%       9.000000              4.500000      4.000000     2.000000   \n",
       "75%      37.000000              4.500000      6.000000     3.000000   \n",
       "max     360.000000              5.000000     16.000000    10.000000   \n",
       "\n",
       "             price  \n",
       "count  8877.000000  \n",
       "mean    171.857272  \n",
       "std     145.855784  \n",
       "min      11.000000  \n",
       "25%     102.000000  \n",
       "50%     137.000000  \n",
       "75%     192.000000  \n",
       "max    3606.000000  "
      ]
     },
     "execution_count": 99,
     "metadata": {},
     "output_type": "execute_result"
    }
   ],
   "source": [
    "airbnb_df2.describe()"
   ]
  },
  {
   "cell_type": "markdown",
   "id": "40f440fe",
   "metadata": {},
   "source": [
    "**Remove Categorical Variables**\n",
    "Additionally, machine learning models cannot work with categorical (string) data as well, specifically scikit-learn. Before building a machine learning model, we need to convert the categorical variables into numeric types.\n",
    "\n",
    "Therefore we need to convert the neighborhood to numbers."
   ]
  },
  {
   "cell_type": "code",
   "execution_count": 100,
   "id": "b7c3a709",
   "metadata": {},
   "outputs": [],
   "source": [
    "airbnb_df3 = pd.get_dummies(airbnb_df2)"
   ]
  },
  {
   "cell_type": "code",
   "execution_count": 101,
   "id": "85ab86d0",
   "metadata": {},
   "outputs": [
    {
     "name": "stdout",
     "output_type": "stream",
     "text": [
      "<class 'pandas.core.frame.DataFrame'>\n",
      "Int64Index: 8877 entries, 140 to 9357\n",
      "Data columns (total 15 columns):\n",
      " #   Column                            Non-Null Count  Dtype  \n",
      "---  ------                            --------------  -----  \n",
      " 0   reviews                           8877 non-null   int64  \n",
      " 1   overall_satisfaction              8877 non-null   float64\n",
      " 2   accommodates                      8877 non-null   int64  \n",
      " 3   bedrooms                          8877 non-null   float64\n",
      " 4   price                             8877 non-null   float64\n",
      " 5   neighborhood_Ciutat Vella         8877 non-null   uint8  \n",
      " 6   neighborhood_Eixample             8877 non-null   uint8  \n",
      " 7   neighborhood_Gràcia               8877 non-null   uint8  \n",
      " 8   neighborhood_Horta-Guinardó       8877 non-null   uint8  \n",
      " 9   neighborhood_Les Corts            8877 non-null   uint8  \n",
      " 10  neighborhood_Nou Barris           8877 non-null   uint8  \n",
      " 11  neighborhood_Sant Andreu          8877 non-null   uint8  \n",
      " 12  neighborhood_Sant Martí           8877 non-null   uint8  \n",
      " 13  neighborhood_Sants-Montjuïc       8877 non-null   uint8  \n",
      " 14  neighborhood_Sarrià-Sant Gervasi  8877 non-null   uint8  \n",
      "dtypes: float64(3), int64(2), uint8(10)\n",
      "memory usage: 502.8 KB\n"
     ]
    }
   ],
   "source": [
    "airbnb_df3.info()"
   ]
  },
  {
   "cell_type": "markdown",
   "id": "6f93f9c6",
   "metadata": {},
   "source": [
    "**Scale the data**\n",
    "\n",
    "Due to the nature of the data I decide to normalize the data and not standarize it."
   ]
  },
  {
   "cell_type": "code",
   "execution_count": 102,
   "id": "b5b202ed",
   "metadata": {},
   "outputs": [],
   "source": [
    "from sklearn.preprocessing import MinMaxScaler"
   ]
  },
  {
   "cell_type": "code",
   "execution_count": 103,
   "id": "3336cd32",
   "metadata": {},
   "outputs": [],
   "source": [
    "mms = MinMaxScaler()\n",
    "\n",
    "airbnb_df3[['reviews', 'overall_satisfaction', 'accommodates', 'bedrooms', \n",
    "            'price']] = mms.fit_transform(airbnb_df3[['reviews', 'overall_satisfaction',\n",
    "                                                      'accommodates', 'bedrooms', 'price']])"
   ]
  },
  {
   "cell_type": "code",
   "execution_count": 104,
   "id": "7184163d",
   "metadata": {},
   "outputs": [
    {
     "data": {
      "text/html": [
       "<div>\n",
       "<style scoped>\n",
       "    .dataframe tbody tr th:only-of-type {\n",
       "        vertical-align: middle;\n",
       "    }\n",
       "\n",
       "    .dataframe tbody tr th {\n",
       "        vertical-align: top;\n",
       "    }\n",
       "\n",
       "    .dataframe thead th {\n",
       "        text-align: right;\n",
       "    }\n",
       "</style>\n",
       "<table border=\"1\" class=\"dataframe\">\n",
       "  <thead>\n",
       "    <tr style=\"text-align: right;\">\n",
       "      <th></th>\n",
       "      <th>reviews</th>\n",
       "      <th>overall_satisfaction</th>\n",
       "      <th>accommodates</th>\n",
       "      <th>bedrooms</th>\n",
       "      <th>price</th>\n",
       "      <th>neighborhood_Ciutat Vella</th>\n",
       "      <th>neighborhood_Eixample</th>\n",
       "      <th>neighborhood_Gràcia</th>\n",
       "      <th>neighborhood_Horta-Guinardó</th>\n",
       "      <th>neighborhood_Les Corts</th>\n",
       "      <th>neighborhood_Nou Barris</th>\n",
       "      <th>neighborhood_Sant Andreu</th>\n",
       "      <th>neighborhood_Sant Martí</th>\n",
       "      <th>neighborhood_Sants-Montjuïc</th>\n",
       "      <th>neighborhood_Sarrià-Sant Gervasi</th>\n",
       "    </tr>\n",
       "  </thead>\n",
       "  <tbody>\n",
       "    <tr>\n",
       "      <th>140</th>\n",
       "      <td>0.000000</td>\n",
       "      <td>0.0</td>\n",
       "      <td>0.733333</td>\n",
       "      <td>0.4</td>\n",
       "      <td>0.134353</td>\n",
       "      <td>0</td>\n",
       "      <td>1</td>\n",
       "      <td>0</td>\n",
       "      <td>0</td>\n",
       "      <td>0</td>\n",
       "      <td>0</td>\n",
       "      <td>0</td>\n",
       "      <td>0</td>\n",
       "      <td>0</td>\n",
       "      <td>0</td>\n",
       "    </tr>\n",
       "    <tr>\n",
       "      <th>141</th>\n",
       "      <td>0.000000</td>\n",
       "      <td>0.0</td>\n",
       "      <td>0.733333</td>\n",
       "      <td>0.4</td>\n",
       "      <td>0.134353</td>\n",
       "      <td>0</td>\n",
       "      <td>1</td>\n",
       "      <td>0</td>\n",
       "      <td>0</td>\n",
       "      <td>0</td>\n",
       "      <td>0</td>\n",
       "      <td>0</td>\n",
       "      <td>0</td>\n",
       "      <td>0</td>\n",
       "      <td>0</td>\n",
       "    </tr>\n",
       "    <tr>\n",
       "      <th>142</th>\n",
       "      <td>0.002778</td>\n",
       "      <td>0.0</td>\n",
       "      <td>1.000000</td>\n",
       "      <td>0.8</td>\n",
       "      <td>0.176634</td>\n",
       "      <td>0</td>\n",
       "      <td>1</td>\n",
       "      <td>0</td>\n",
       "      <td>0</td>\n",
       "      <td>0</td>\n",
       "      <td>0</td>\n",
       "      <td>0</td>\n",
       "      <td>0</td>\n",
       "      <td>0</td>\n",
       "      <td>0</td>\n",
       "    </tr>\n",
       "    <tr>\n",
       "      <th>143</th>\n",
       "      <td>0.000000</td>\n",
       "      <td>0.0</td>\n",
       "      <td>1.000000</td>\n",
       "      <td>1.0</td>\n",
       "      <td>0.248401</td>\n",
       "      <td>0</td>\n",
       "      <td>1</td>\n",
       "      <td>0</td>\n",
       "      <td>0</td>\n",
       "      <td>0</td>\n",
       "      <td>0</td>\n",
       "      <td>0</td>\n",
       "      <td>0</td>\n",
       "      <td>0</td>\n",
       "      <td>0</td>\n",
       "    </tr>\n",
       "    <tr>\n",
       "      <th>144</th>\n",
       "      <td>0.002778</td>\n",
       "      <td>0.0</td>\n",
       "      <td>1.000000</td>\n",
       "      <td>0.6</td>\n",
       "      <td>0.096245</td>\n",
       "      <td>0</td>\n",
       "      <td>1</td>\n",
       "      <td>0</td>\n",
       "      <td>0</td>\n",
       "      <td>0</td>\n",
       "      <td>0</td>\n",
       "      <td>0</td>\n",
       "      <td>0</td>\n",
       "      <td>0</td>\n",
       "      <td>0</td>\n",
       "    </tr>\n",
       "  </tbody>\n",
       "</table>\n",
       "</div>"
      ],
      "text/plain": [
       "      reviews  overall_satisfaction  accommodates  bedrooms     price  \\\n",
       "140  0.000000                   0.0      0.733333       0.4  0.134353   \n",
       "141  0.000000                   0.0      0.733333       0.4  0.134353   \n",
       "142  0.002778                   0.0      1.000000       0.8  0.176634   \n",
       "143  0.000000                   0.0      1.000000       1.0  0.248401   \n",
       "144  0.002778                   0.0      1.000000       0.6  0.096245   \n",
       "\n",
       "     neighborhood_Ciutat Vella  neighborhood_Eixample  neighborhood_Gràcia  \\\n",
       "140                          0                      1                    0   \n",
       "141                          0                      1                    0   \n",
       "142                          0                      1                    0   \n",
       "143                          0                      1                    0   \n",
       "144                          0                      1                    0   \n",
       "\n",
       "     neighborhood_Horta-Guinardó  neighborhood_Les Corts  \\\n",
       "140                            0                       0   \n",
       "141                            0                       0   \n",
       "142                            0                       0   \n",
       "143                            0                       0   \n",
       "144                            0                       0   \n",
       "\n",
       "     neighborhood_Nou Barris  neighborhood_Sant Andreu  \\\n",
       "140                        0                         0   \n",
       "141                        0                         0   \n",
       "142                        0                         0   \n",
       "143                        0                         0   \n",
       "144                        0                         0   \n",
       "\n",
       "     neighborhood_Sant Martí  neighborhood_Sants-Montjuïc  \\\n",
       "140                        0                            0   \n",
       "141                        0                            0   \n",
       "142                        0                            0   \n",
       "143                        0                            0   \n",
       "144                        0                            0   \n",
       "\n",
       "     neighborhood_Sarrià-Sant Gervasi  \n",
       "140                                 0  \n",
       "141                                 0  \n",
       "142                                 0  \n",
       "143                                 0  \n",
       "144                                 0  "
      ]
     },
     "execution_count": 104,
     "metadata": {},
     "output_type": "execute_result"
    }
   ],
   "source": [
    "airbnb_df3.head()"
   ]
  },
  {
   "cell_type": "markdown",
   "id": "7ebb5f46",
   "metadata": {},
   "source": [
    "**Model Building**\n",
    "\n",
    "As requested by the exercise we use the Random Forest model"
   ]
  },
  {
   "cell_type": "code",
   "execution_count": 105,
   "id": "467e80f9",
   "metadata": {},
   "outputs": [],
   "source": [
    "from sklearn.ensemble import RandomForestRegressor\n",
    "from sklearn.model_selection import train_test_split\n",
    "from sklearn.metrics import mean_squared_error\n",
    "import math"
   ]
  },
  {
   "cell_type": "code",
   "execution_count": 106,
   "id": "9aeb8679",
   "metadata": {},
   "outputs": [
    {
     "name": "stdout",
     "output_type": "stream",
     "text": [
      "(6657, 14) (2220, 14) (6657,) (2220,)\n"
     ]
    }
   ],
   "source": [
    "#The target variable is price \n",
    "X = airbnb_df3.drop(['price'], axis=1).values\n",
    "y = airbnb_df3.price.values\n",
    "\n",
    "#Train-test-split to test the model\n",
    "X_train, X_test, y_train, y_test = train_test_split(X, y, test_size=0.25, random_state=1)\n",
    "print(X_train.shape, X_test.shape, y_train.shape, y_test.shape)"
   ]
  },
  {
   "cell_type": "markdown",
   "id": "7b8ebdd8",
   "metadata": {},
   "source": [
    "**Random Forest**"
   ]
  },
  {
   "cell_type": "code",
   "execution_count": 107,
   "id": "fedab088",
   "metadata": {},
   "outputs": [],
   "source": [
    "# Instantiate model with 100 decision trees\n",
    "rf = RandomForestRegressor(n_estimators = 100, random_state = 42)\n",
    "\n",
    "# Train the model on training data\n",
    "rf.fit(X_train, y_train);"
   ]
  },
  {
   "cell_type": "code",
   "execution_count": 108,
   "id": "7d4841b8",
   "metadata": {},
   "outputs": [],
   "source": [
    "# Use the forest's predict method on the test data\n",
    "y_pred_RF = rf.predict(X_test)"
   ]
  },
  {
   "cell_type": "code",
   "execution_count": 109,
   "id": "89490a47",
   "metadata": {},
   "outputs": [
    {
     "data": {
      "text/plain": [
       "0.3939523274313176"
      ]
     },
     "execution_count": 109,
     "metadata": {},
     "output_type": "execute_result"
    }
   ],
   "source": [
    "# R Square\n",
    "rf_r2 = rf.score(X_test, y_test)\n",
    "rf_r2"
   ]
  },
  {
   "cell_type": "markdown",
   "id": "df82b2aa",
   "metadata": {},
   "source": [
    "As the results are low we try different models to select the best option.\n",
    "\n"
   ]
  },
  {
   "cell_type": "code",
   "execution_count": 110,
   "id": "0a590199",
   "metadata": {},
   "outputs": [
    {
     "name": "stdout",
     "output_type": "stream",
     "text": [
      "Mean Squared Error = 0.0007179433139992643\n",
      "Root Mean Squared Error = 0.026794464241691122\n"
     ]
    }
   ],
   "source": [
    "# Mean Square Error(MSE)/Root Mean Square Error(RMSE)\n",
    "MSE_RF = mean_squared_error(y_test, y_pred_RF)\n",
    "RMSE_RF = math.sqrt(mean_squared_error(y_test, y_pred_RF))\n",
    "print('Mean Squared Error =', MSE_RF)\n",
    "print('Root Mean Squared Error =', RMSE_RF)"
   ]
  },
  {
   "cell_type": "markdown",
   "id": "d97b7fe6",
   "metadata": {},
   "source": [
    "**Neural Networks**"
   ]
  },
  {
   "cell_type": "code",
   "execution_count": 111,
   "id": "c532cf44",
   "metadata": {},
   "outputs": [],
   "source": [
    "from sklearn.neural_network import MLPRegressor\n",
    "\n",
    "mlp = MLPRegressor(hidden_layer_sizes=(8,8,8), activation='relu', solver='adam', max_iter=500, random_state=42)\n",
    "\n",
    "mlp.fit(X_train, y_train)\n",
    "\n",
    "y_pred_NN = mlp.predict(X_test)"
   ]
  },
  {
   "cell_type": "code",
   "execution_count": 112,
   "id": "f770ba38",
   "metadata": {},
   "outputs": [
    {
     "data": {
      "text/plain": [
       "0.06032610452676579"
      ]
     },
     "execution_count": 112,
     "metadata": {},
     "output_type": "execute_result"
    }
   ],
   "source": [
    "# R Square\n",
    "mlp_r2 = mlp.score(X_test, y_test)\n",
    "mlp_r2"
   ]
  },
  {
   "cell_type": "markdown",
   "id": "82f347b3",
   "metadata": {},
   "source": [
    "**Multiple Linear Regression**"
   ]
  },
  {
   "cell_type": "code",
   "execution_count": 113,
   "id": "363e4653",
   "metadata": {},
   "outputs": [],
   "source": [
    "from sklearn.linear_model import LinearRegression"
   ]
  },
  {
   "cell_type": "code",
   "execution_count": 114,
   "id": "6337954f",
   "metadata": {},
   "outputs": [],
   "source": [
    "lr = LinearRegression().fit(X_train, y_train)"
   ]
  },
  {
   "cell_type": "code",
   "execution_count": 115,
   "id": "69c857e4",
   "metadata": {},
   "outputs": [
    {
     "data": {
      "text/plain": [
       "0.2235367095274432"
      ]
     },
     "execution_count": 115,
     "metadata": {},
     "output_type": "execute_result"
    }
   ],
   "source": [
    "# R Square\n",
    "r_sq = lr.score(X_train, y_train)\n",
    "r_sq"
   ]
  },
  {
   "cell_type": "markdown",
   "id": "1cb24623",
   "metadata": {},
   "source": [
    "The correlations of any of the models are very good, being the random forest the best model.\n",
    "\n",
    "Trying to improve the R2 of the models by doing one or more of the below:\n",
    " - Remove 'accommodates' variable as it has a bid correlation with 'bedrooms'\n",
    " - Remove 'bedrooms' variable as it has a bid correlation with 'accommodates'\n",
    " - modify the outliners to increase de correlation. \n",
    " - create a new variable price/accomodates to use as target and remove both price and accomodates\n",
    " \n",
    "**Conclusion:** Any of the above actions have increased the R2, therefore to complete the exercise we are going to build the pipeline and try to select the best parameter using gridsearch on the random forest model."
   ]
  },
  {
   "cell_type": "code",
   "execution_count": 116,
   "id": "5bf6475f",
   "metadata": {},
   "outputs": [],
   "source": [
    "#airbnb_df2 = airbnb_df2.drop(['bedrooms'], axis=1)\n",
    "#airbnb_df2 = airbnb_df2.drop(['accommodates'], axis=1)"
   ]
  },
  {
   "cell_type": "code",
   "execution_count": 117,
   "id": "60144245",
   "metadata": {},
   "outputs": [],
   "source": [
    "#Q:low = airbnb_df2.price.quantile(.05)\n",
    "#Q_high = airbnb_df2.price.quantile(.99)"
   ]
  },
  {
   "cell_type": "code",
   "execution_count": 118,
   "id": "a135a37e",
   "metadata": {},
   "outputs": [],
   "source": [
    "#airbnb_df2.loc [airbnb_df2[\"price\"] < Q:low, \"price\"] = Q_low\n",
    "#airbnb_df3.loc [airbnb_df2[\"price\"] > Q_high, \"price\"] = Q_high\n",
    "#airbnb_df3.describe()"
   ]
  },
  {
   "cell_type": "markdown",
   "id": "9d8236f6",
   "metadata": {},
   "source": [
    "**Building Pipeline**\n",
    "\n",
    "Now that we have checked which are the requirements to get the best results with a model we are going to build a pipeline.\n",
    "\n",
    "Despite that it´s not required we will import some libraries and the dataframe to keep all the pipeline information together"
   ]
  },
  {
   "cell_type": "code",
   "execution_count": 119,
   "id": "cefa8d8b",
   "metadata": {},
   "outputs": [],
   "source": [
    "import numpy as np\n",
    "import pandas as pd\n",
    "import matplotlib.pyplot as plt\n",
    "import seaborn as sns\n",
    "\n",
    "from sklearn.preprocessing import OneHotEncoder\n",
    "from sklearn.base import BaseEstimator\n",
    "from sklearn.compose import ColumnTransformer\n",
    "from sklearn.preprocessing import MinMaxScaler\n",
    "from sklearn.pipeline import Pipeline\n",
    "from sklearn.ensemble import RandomForestRegressor\n",
    "from sklearn.model_selection import train_test_split\n",
    "from sklearn.metrics import mean_squared_error"
   ]
  },
  {
   "cell_type": "code",
   "execution_count": 120,
   "id": "e54502ba",
   "metadata": {},
   "outputs": [],
   "source": [
    "#import the dataset\n",
    "airbnb_pipeline = pd.read_csv('tomslee_airbnb_barcelona_1477_2017-07-23.csv')"
   ]
  },
  {
   "cell_type": "code",
   "execution_count": 121,
   "id": "8336d0be",
   "metadata": {},
   "outputs": [],
   "source": [
    "\n",
    "airbnb_pipeline = airbnb_pipeline[airbnb_df['room_type'] == 'Entire home/apt']\n"
   ]
  },
  {
   "cell_type": "raw",
   "id": "3a08e95b",
   "metadata": {},
   "source": [
    "rf = RandomForestRegressor(n_estimators = 100, random_state = 42)"
   ]
  },
  {
   "cell_type": "code",
   "execution_count": 122,
   "id": "be0fda6b",
   "metadata": {},
   "outputs": [],
   "source": [
    "# NO HE CONSEGUIDO QUE ME FUNCIONE DE MODO QUE LO SACO DEL PIPELINE\n",
    "\n",
    "# define the class OutletTypeEncoder\n",
    "# This will be our custom transformer that will only keep 'Entire home/apt' for the room type\n",
    "# custom transformer must have methods fit and transform\n",
    "class OutletTypeEncoder(BaseEstimator):\n",
    "\n",
    "    def __init__(self):\n",
    "        pass\n",
    "\n",
    "    def fit(self, X, y=None):\n",
    "        return self\n",
    "\n",
    "    def transform(self, X):\n",
    "        X = X[X['room_type'] == 'Entire home/apt']\n",
    "        return X"
   ]
  },
  {
   "cell_type": "code",
   "execution_count": 123,
   "id": "ee7feca0",
   "metadata": {},
   "outputs": [],
   "source": [
    "# pre-processsing step\n",
    "# Drop the columns \n",
    "# Scale the data \n",
    "\n",
    "pre_process = ColumnTransformer(remainder='passthrough',\n",
    "                                transformers=[('drop_columns', 'drop', ['room_id', \n",
    "                                                                        'survey_id', \n",
    "                                                                        'host_id', \n",
    "                                                                        'country', \n",
    "                                                                        'city',\n",
    "                                                                        'borough', \n",
    "                                                                        'bathrooms', \n",
    "                                                                        'minstay', \n",
    "                                                                        'name',\n",
    "                                                                       'last_modified', \n",
    "                                                                        'latitude', \n",
    "                                                                        'longitude', \n",
    "                                                                        'location',\n",
    "                                                                        'room_type'\n",
    "                                                                       ]),\n",
    "                                               ('cat_variables', OneHotEncoder(), ['neighborhood']),\n",
    "                                               ('scale_data', MinMaxScaler(),['reviews',\n",
    "                                                                              'overall_satisfaction',\n",
    "                                                                              'accommodates', \n",
    "                                                                              'bedrooms'\n",
    "                                                                             ])\n",
    "                                             ])"
   ]
  },
  {
   "cell_type": "code",
   "execution_count": 124,
   "id": "3cdfcfb9",
   "metadata": {},
   "outputs": [],
   "source": [
    "# Define the Pipeline\n",
    "\"\"\"\n",
    "Step1: get some rows removed\n",
    "Step2: pre processing\n",
    "Step3: Train a Random Forest Model\n",
    "\"\"\"\n",
    "#model_pipeline = Pipeline(steps=[('pre_processing',pre_process),\n",
    "#                                 ('remove_unwanted_rows', OutletTypeEncoder()),\n",
    "#                                 ('random_forest', RandomForestRegressor(n_estimators = 100, random_state = 42))\n",
    "#                                 ])\n",
    "\n",
    "model_pipeline = Pipeline(steps=[('pre_processing',pre_process),\n",
    "                                 ('RF', RandomForestRegressor(n_estimators = 100, random_state = 42))\n",
    "                                 ])\n",
    "\n"
   ]
  },
  {
   "cell_type": "code",
   "execution_count": 125,
   "id": "978fc816",
   "metadata": {},
   "outputs": [
    {
     "name": "stdout",
     "output_type": "stream",
     "text": [
      "(6657, 19) (2220, 19) (6657,) (2220,)\n",
      "R2 =  0.38899516309592075\n"
     ]
    }
   ],
   "source": [
    "#The target variable is price \n",
    "X = airbnb_pipeline.drop(['price'], axis=1)\n",
    "y = airbnb_pipeline.price.values\n",
    "\n",
    "#Train-test-split to test the model\n",
    "X_train, X_test, y_train, y_test = train_test_split(X, y, test_size=0.25, random_state=1)\n",
    "print(X_train.shape, X_test.shape, y_train.shape, y_test.shape)\n",
    "\n",
    "# fit the pipeline with the training data\n",
    "model_pipeline.fit(X_train,y_train)\n",
    "\n",
    "# predict target values on the training data\n",
    "model_pipeline.predict(X_test)\n",
    "\n",
    "# R Square\n",
    "rf_r2 = model_pipeline.score(X_test, y_test)\n",
    "print ('R2 = ', rf_r2)"
   ]
  },
  {
   "cell_type": "markdown",
   "id": "be11c4fb",
   "metadata": {},
   "source": [
    "Now let´s optimize the model hyperparameters\n"
   ]
  },
  {
   "cell_type": "code",
   "execution_count": 126,
   "id": "1f306658",
   "metadata": {},
   "outputs": [],
   "source": [
    "from sklearn.model_selection import GridSearchCV\n"
   ]
  },
  {
   "cell_type": "code",
   "execution_count": 127,
   "id": "3e395b53",
   "metadata": {},
   "outputs": [
    {
     "name": "stdout",
     "output_type": "stream",
     "text": [
      "score = 0.40\n",
      "{'RF__max_depth': None, 'RF__max_features': 'sqrt', 'RF__n_estimators': 500}\n"
     ]
    }
   ],
   "source": [
    "parameteres = {'RF__n_estimators':[50,100,150,200,300,500], 'RF__max_depth':[None,1,2], 'RF__max_features':['auto','sqrt','log2'] }\n",
    "grid = GridSearchCV(model_pipeline, param_grid=parameteres, cv=10, scoring='r2')\n",
    "grid.fit(X_train, y_train)\n",
    "print ('score = %3.2f' %(grid.score(X_test,y_test)))\n",
    "print (grid.best_params_)"
   ]
  },
  {
   "cell_type": "code",
   "execution_count": 128,
   "id": "ddc3eb2c",
   "metadata": {},
   "outputs": [
    {
     "data": {
      "text/plain": [
       "0.40461960942106656"
      ]
     },
     "execution_count": 128,
     "metadata": {},
     "output_type": "execute_result"
    }
   ],
   "source": [
    "grid.score(X_test, y_test)"
   ]
  },
  {
   "cell_type": "code",
   "execution_count": 129,
   "id": "6ef727aa",
   "metadata": {},
   "outputs": [],
   "source": [
    "model_pipeline = Pipeline(steps=[('pre_processing',pre_process),\n",
    "                                 ('RF', RandomForestRegressor(n_estimators = 500, max_depth= None, max_features= 'sqrt', random_state = 42))\n",
    "                                 ])"
   ]
  },
  {
   "cell_type": "code",
   "execution_count": 130,
   "id": "ed989cc2",
   "metadata": {},
   "outputs": [
    {
     "name": "stdout",
     "output_type": "stream",
     "text": [
      "(6657, 19) (2220, 19) (6657,) (2220,)\n",
      "R2 =  0.40461960942106656\n"
     ]
    }
   ],
   "source": [
    "#The target variable is price \n",
    "X = airbnb_pipeline.drop(['price'], axis=1)\n",
    "y = airbnb_pipeline.price.values\n",
    "\n",
    "#Train-test-split to test the model\n",
    "X_train, X_test, y_train, y_test = train_test_split(X, y, test_size=0.25, random_state=1)\n",
    "print(X_train.shape, X_test.shape, y_train.shape, y_test.shape)\n",
    "\n",
    "# fit the pipeline with the training data\n",
    "model_pipeline.fit(X_train,y_train)\n",
    "\n",
    "# predict target values on the training data\n",
    "model_pipeline.predict(X_test)\n",
    "\n",
    "# R Square\n",
    "rf_r2 = model_pipeline.score(X_test, y_test)\n",
    "print ('R2 = ', rf_r2)"
   ]
  },
  {
   "cell_type": "markdown",
   "id": "6b190a5f",
   "metadata": {},
   "source": [
    "The R2 has increased slightly"
   ]
  },
  {
   "cell_type": "markdown",
   "id": "465cc931",
   "metadata": {},
   "source": [
    "## Exercici 2\n",
    "**Agafa un text en anglès que vulguis, i calcula'n la freqüència de les paraules**"
   ]
  },
  {
   "cell_type": "code",
   "execution_count": 131,
   "id": "e5fdd023",
   "metadata": {},
   "outputs": [],
   "source": [
    "#!pip install nltk"
   ]
  },
  {
   "cell_type": "code",
   "execution_count": 132,
   "id": "92f3b42d",
   "metadata": {},
   "outputs": [],
   "source": [
    "import nltk\n",
    "#nltk.download()\n",
    "import string"
   ]
  },
  {
   "cell_type": "code",
   "execution_count": 133,
   "id": "eb1994ee",
   "metadata": {},
   "outputs": [],
   "source": [
    "from nltk.tokenize import word_tokenize\n",
    "from nltk.probability import FreqDist"
   ]
  },
  {
   "cell_type": "code",
   "execution_count": 134,
   "id": "e18ce2d4",
   "metadata": {},
   "outputs": [],
   "source": [
    "def freq_words (text):\n",
    "    tokenized_words = word_tokenize(text)\n",
    "    #To remove punctuations. i.e. '.' ',' etc\n",
    "    tokenized_words = list(filter(lambda token: token not in string.punctuation, tokenized_words))\n",
    "    print('The words in the text are:\\n', tokenized_words)\n",
    "   \n",
    "    fdist = FreqDist(tokenized_words)\n",
    "    print(fdist)\n",
    "    print ('The 5 most frequent words are:\\n', fdist.most_common(5))\n",
    "    \n",
    "    #plot\n",
    "    fdist.plot(10,cumulative=False, title = ('10 most frequent words'))\n",
    "    plt.show()\n",
    "\n",
    "    return tokenized_words"
   ]
  },
  {
   "cell_type": "code",
   "execution_count": 135,
   "id": "53177f83",
   "metadata": {},
   "outputs": [
    {
     "name": "stdout",
     "output_type": "stream",
     "text": [
      "The words in the text are:\n",
      " ['What', 'is', 'hope', 'but', 'a', 'feeling', 'of', 'optimism', 'a', 'thought', 'that', 'says', 'things', 'will', 'improve', 'it', 'wo', \"n't\", 'always', 'be', 'bleak', 'there', \"'s\", 'a', 'way', 'to', 'rise', 'above', 'the', 'present', 'circumstances', 'Hope', 'is', 'an', 'internal', 'awareness', 'that', 'you', 'do', 'not', 'have', 'to', 'suffer', 'forever', 'and', 'that', 'somehow', 'somewhere', 'there', 'is', 'a', 'remedy', 'for', 'despair', 'that', 'you', 'will', 'come', 'upon', 'if', 'you', 'can', 'only', 'maintain', 'this', 'expectancy', 'in', 'your', 'heart']\n",
      "<FreqDist with 56 samples and 69 outcomes>\n",
      "The 5 most frequent words are:\n",
      " [('a', 4), ('that', 4), ('is', 3), ('you', 3), ('will', 2)]\n"
     ]
    },
    {
     "data": {
      "image/png": "[encoded data removed]",
      "text/plain": [
       "<Figure size 432x288 with 1 Axes>"
      ]
     },
     "metadata": {
      "needs_background": "light"
     },
     "output_type": "display_data"
    }
   ],
   "source": [
    "text=\"\"\"What is hope but a feeling of optimism, a thought that says things will improve, it won't always be bleak, there's a way to rise above the present circumstances. Hope is an internal awareness that you do not have to suffer forever, and that somehow, somewhere there is a remedy for despair that you will come upon if you can only maintain this expectancy in your heart.\"\"\"\n",
    "\n",
    "#Text analysis after removing punctuation commas, dots, etc. (Not the negative contractions.)\n",
    "tokenized_words = freq_words (text)"
   ]
  },
  {
   "cell_type": "markdown",
   "id": "c3a1f0bd",
   "metadata": {},
   "source": [
    "## Nivell 2 - Exercici 1\n",
    "**Treu les stopwords i realitza stemming al teu conjunt de dades.**"
   ]
  },
  {
   "cell_type": "markdown",
   "id": "11a744ff",
   "metadata": {},
   "source": [
    "**Stopwords** considered as noise in the text. Text may contain stop words such as is, am, are, this, a, an, the, etc.\n",
    "\n",
    "In NLTK for removing stopwords, you need to create a list of stopwords and filter out your list of tokens from these words.\n",
    "\n",
    "We first apply the **stopwords** to the text and compare it with the word tokenize text"
   ]
  },
  {
   "cell_type": "code",
   "execution_count": 136,
   "id": "be60dd0e",
   "metadata": {},
   "outputs": [],
   "source": [
    "from nltk.corpus import stopwords"
   ]
  },
  {
   "cell_type": "code",
   "execution_count": 137,
   "id": "503d27d3",
   "metadata": {},
   "outputs": [],
   "source": [
    "def compare_stopwords_sentencetokenized (text, tokenized_words):\n",
    "    stop_words = set(stopwords.words(\"english\"))\n",
    "\n",
    "    filtered_words = []\n",
    "    for w in tokenized_words:\n",
    "        if w not in stop_words:\n",
    "            filtered_words.append(w)\n",
    "            \n",
    "    print(\"Tokenized words:\\n\",tokenized_words)\n",
    "    print(\"Filtered words:\\n\",filtered_words)\n",
    "    \n",
    "    return filtered_words, stop_words"
   ]
  },
  {
   "cell_type": "code",
   "execution_count": 138,
   "id": "a0cd35eb",
   "metadata": {},
   "outputs": [
    {
     "name": "stdout",
     "output_type": "stream",
     "text": [
      "Tokenized words:\n",
      " ['What', 'is', 'hope', 'but', 'a', 'feeling', 'of', 'optimism', 'a', 'thought', 'that', 'says', 'things', 'will', 'improve', 'it', 'wo', \"n't\", 'always', 'be', 'bleak', 'there', \"'s\", 'a', 'way', 'to', 'rise', 'above', 'the', 'present', 'circumstances', 'Hope', 'is', 'an', 'internal', 'awareness', 'that', 'you', 'do', 'not', 'have', 'to', 'suffer', 'forever', 'and', 'that', 'somehow', 'somewhere', 'there', 'is', 'a', 'remedy', 'for', 'despair', 'that', 'you', 'will', 'come', 'upon', 'if', 'you', 'can', 'only', 'maintain', 'this', 'expectancy', 'in', 'your', 'heart']\n",
      "Filtered words:\n",
      " ['What', 'hope', 'feeling', 'optimism', 'thought', 'says', 'things', 'improve', 'wo', \"n't\", 'always', 'bleak', \"'s\", 'way', 'rise', 'present', 'circumstances', 'Hope', 'internal', 'awareness', 'suffer', 'forever', 'somehow', 'somewhere', 'remedy', 'despair', 'come', 'upon', 'maintain', 'expectancy', 'heart']\n"
     ]
    }
   ],
   "source": [
    "filtered_words, stop_words = compare_stopwords_sentencetokenized (text, tokenized_words)"
   ]
  },
  {
   "cell_type": "code",
   "execution_count": 139,
   "id": "a37d5b82",
   "metadata": {},
   "outputs": [
    {
     "name": "stdout",
     "output_type": "stream",
     "text": [
      "{'once', 'herself', 'having', 'during', 'over', 'shouldn', \"weren't\", 'between', 'most', \"mightn't\", 'we', \"you've\", 'himself', 'yourself', 'are', 'itself', 'where', 'can', 'what', 'is', 'won', \"shan't\", 'more', 'needn', 'that', 'further', 'both', 'to', \"couldn't\", 'mustn', 'up', \"you'd\", \"won't\", 'been', 'd', \"hadn't\", \"wasn't\", 'wouldn', 'these', 'as', \"aren't\", \"it's\", 'didn', 'isn', 'yourselves', 'very', \"you're\", 'his', 'her', 'its', 'through', 'will', 'me', \"shouldn't\", 'until', 'now', 'being', 'y', 'they', 'them', 'not', 'an', \"mustn't\", 'all', 'aren', 's', 'about', 'don', \"you'll\", 'who', 'for', \"that'll\", 'here', 'too', 'll', 'again', 'why', 'am', 'if', 'on', 'than', 'theirs', 'myself', 'and', 'be', 'below', \"hasn't\", 'whom', 'of', \"wouldn't\", 'such', 'down', 'your', 'this', 'were', \"didn't\", 't', 'other', 'after', 'hadn', \"should've\", 'm', 'my', \"she's\", \"isn't\", 'should', 'a', 'how', 'which', 'o', 'no', 'into', 'doing', 'ourselves', 'their', 're', 'hasn', 'had', 'some', 'just', 'nor', 'from', 'ain', 'mightn', 'couldn', 'under', 'at', 'ma', 'any', 'few', 'there', 'out', 'yours', 'with', 'shan', 've', 'wasn', \"needn't\", 'above', 'or', 'same', 'have', 'has', 'in', 'each', 'the', \"don't\", 'do', 'by', 'but', 'own', 'because', 'weren', 'was', 'ours', 'she', 'haven', 'does', 'those', \"haven't\", 'while', 'i', 'did', \"doesn't\", 'you', 'he', 'our', 'hers', 'doesn', 'only', 'so', 'against', 'before', 'when', 'him', 'then', 'off', 'it', 'themselves'}\n"
     ]
    }
   ],
   "source": [
    "#The stopwords are the follwoing\n",
    "print(stop_words)"
   ]
  },
  {
   "cell_type": "markdown",
   "id": "dba611f5",
   "metadata": {},
   "source": [
    "**Stemming**  is a process of linguistic normalization, which reduces words to their word root word or chops off the derivational affixes. For example, connection, connected, connecting word reduce to a common word \"connect\".\n",
    "\n",
    "Let´s apply the steeming now."
   ]
  },
  {
   "cell_type": "code",
   "execution_count": 140,
   "id": "21c5691a",
   "metadata": {},
   "outputs": [],
   "source": [
    "from nltk.stem import PorterStemmer"
   ]
  },
  {
   "cell_type": "code",
   "execution_count": 141,
   "id": "58d8944d",
   "metadata": {},
   "outputs": [],
   "source": [
    "def stemming_text (text, filtered_words):\n",
    "    ps = PorterStemmer()\n",
    "\n",
    "    stemmed_words=[]\n",
    "    for w in filtered_words:\n",
    "        stemmed_words.append(ps.stem(w))\n",
    "\n",
    "    print(\"Filtered Words:\\n\",filtered_words)\n",
    "    print(\"Stemmed Words:\\n\",stemmed_words)\n",
    "    \n",
    "    return stemmed_words"
   ]
  },
  {
   "cell_type": "code",
   "execution_count": 142,
   "id": "0964d06e",
   "metadata": {},
   "outputs": [
    {
     "name": "stdout",
     "output_type": "stream",
     "text": [
      "Filtered Words:\n",
      " ['What', 'hope', 'feeling', 'optimism', 'thought', 'says', 'things', 'improve', 'wo', \"n't\", 'always', 'bleak', \"'s\", 'way', 'rise', 'present', 'circumstances', 'Hope', 'internal', 'awareness', 'suffer', 'forever', 'somehow', 'somewhere', 'remedy', 'despair', 'come', 'upon', 'maintain', 'expectancy', 'heart']\n",
      "Stemmed Words:\n",
      " ['what', 'hope', 'feel', 'optim', 'thought', 'say', 'thing', 'improv', 'wo', \"n't\", 'alway', 'bleak', \"'s\", 'way', 'rise', 'present', 'circumst', 'hope', 'intern', 'awar', 'suffer', 'forev', 'somehow', 'somewher', 'remedi', 'despair', 'come', 'upon', 'maintain', 'expect', 'heart']\n"
     ]
    }
   ],
   "source": [
    "stemmed_words = stemming_text (text, filtered_words)"
   ]
  },
  {
   "cell_type": "markdown",
   "id": "1aa7d55b",
   "metadata": {},
   "source": [
    "**Lemmatization** reduces words to their base word, which is linguistically correct lemmas. It transforms root word with the use of vocabulary and morphological analysis. Lemmatization is usually more sophisticated than stemming. Stemmer works on an individual word without knowledge of the context. For example, The word \"better\" has \"good\" as its lemma. This thing will miss by stemming because it requires a dictionary look-up."
   ]
  },
  {
   "cell_type": "code",
   "execution_count": 143,
   "id": "e3349307",
   "metadata": {},
   "outputs": [],
   "source": [
    "from nltk.stem.wordnet import WordNetLemmatizer"
   ]
  },
  {
   "cell_type": "code",
   "execution_count": 144,
   "id": "0f8377aa",
   "metadata": {},
   "outputs": [],
   "source": [
    "def lemmatizer_text (text, filtered_words, stemmed_words):\n",
    "    lem = WordNetLemmatizer()    \n",
    "    ps = PorterStemmer()\n",
    "\n",
    "    lemmatizer_words=[]\n",
    "    for w in filtered_words:\n",
    "        lemmatizer_words.append(lem.lemmatize(w))\n",
    "\n",
    "    print(\"Filtered Words:\\n\",filtered_words)\n",
    "    print(\"Stemmed Word:\\n\", stemmed_words)\n",
    "    print(\"Lemmatized Word:\\n\",lemmatizer_words)"
   ]
  },
  {
   "cell_type": "code",
   "execution_count": 145,
   "id": "7aaef7af",
   "metadata": {},
   "outputs": [
    {
     "name": "stdout",
     "output_type": "stream",
     "text": [
      "Filtered Words:\n",
      " ['What', 'hope', 'feeling', 'optimism', 'thought', 'says', 'things', 'improve', 'wo', \"n't\", 'always', 'bleak', \"'s\", 'way', 'rise', 'present', 'circumstances', 'Hope', 'internal', 'awareness', 'suffer', 'forever', 'somehow', 'somewhere', 'remedy', 'despair', 'come', 'upon', 'maintain', 'expectancy', 'heart']\n",
      "Stemmed Word:\n",
      " ['what', 'hope', 'feel', 'optim', 'thought', 'say', 'thing', 'improv', 'wo', \"n't\", 'alway', 'bleak', \"'s\", 'way', 'rise', 'present', 'circumst', 'hope', 'intern', 'awar', 'suffer', 'forev', 'somehow', 'somewher', 'remedi', 'despair', 'come', 'upon', 'maintain', 'expect', 'heart']\n",
      "Lemmatized Word:\n",
      " ['What', 'hope', 'feeling', 'optimism', 'thought', 'say', 'thing', 'improve', 'wo', \"n't\", 'always', 'bleak', \"'s\", 'way', 'rise', 'present', 'circumstance', 'Hope', 'internal', 'awareness', 'suffer', 'forever', 'somehow', 'somewhere', 'remedy', 'despair', 'come', 'upon', 'maintain', 'expectancy', 'heart']\n"
     ]
    }
   ],
   "source": [
    "lemmatizer_text (text, filtered_words, stemmed_words)"
   ]
  },
  {
   "cell_type": "markdown",
   "id": "edb116c6",
   "metadata": {},
   "source": [
    "## Nivell 3 - Exercici 1\n",
    "**realitza sentiment analysis al teu conjunt de dades.**"
   ]
  },
  {
   "cell_type": "markdown",
   "id": "ac8ace23",
   "metadata": {},
   "source": [
    "Sentiment analysis analyses user messages and classifies underlying sentiment as positive, neutral or negative.\n",
    "\n",
    "There are mainly two approaches for performing sentiment analysis.\n",
    "\n",
    " - Lexicon-based: count number of positive and negative words in given text and the larger count will be the sentiment of text.\n",
    "\n",
    " - Machine learning based approach: Develop a classification model, which is trained using the pre-labeled dataset of positive, negative, and neutral.\n",
    "\n",
    "As we don´t have enough information to train amodel we will use NLTK’s Pre-Trained Sentiment Analyzer\n",
    "\n",
    "NLTK already has a built-in, pretrained sentiment analyzer called VADER (Valence Aware Dictionary and sEntiment Reasoner).\n",
    "\n",
    "Since VADER is pretrained, you can get results more quickly than with many other analyzers. However, VADER is best suited for language used in social media, like short sentences with some slang and abbreviations. It’s less accurate when rating longer, structured sentences, but it’s often a good launching point."
   ]
  },
  {
   "cell_type": "code",
   "execution_count": 146,
   "id": "9d44efd5",
   "metadata": {},
   "outputs": [],
   "source": [
    "from nltk.sentiment import SentimentIntensityAnalyzer"
   ]
  },
  {
   "cell_type": "code",
   "execution_count": 147,
   "id": "bd6037e7",
   "metadata": {},
   "outputs": [
    {
     "data": {
      "text/plain": [
       "{'neg': 0.037, 'neu': 0.71, 'pos': 0.253, 'compound': 0.9515}"
      ]
     },
     "execution_count": 147,
     "metadata": {},
     "output_type": "execute_result"
    }
   ],
   "source": [
    "sia = SentimentIntensityAnalyzer()\n",
    "sia.polarity_scores(text)"
   ]
  },
  {
   "cell_type": "markdown",
   "id": "f2cbfcff",
   "metadata": {},
   "source": [
    "You’ll get back a dictionary of different scores. The negative, neutral, and positive scores are related: They all add up to 1 and can’t be negative. \n",
    "\n",
    "The compound score is calculated differently. It’s not just an average, and it can range from -1 to 1.\n",
    "\n",
    "In this occasion our sentence is very positive\n",
    "\n",
    "We now try it with a negative sentence to check the VADER result"
   ]
  },
  {
   "cell_type": "code",
   "execution_count": 148,
   "id": "0ba51736",
   "metadata": {},
   "outputs": [
    {
     "data": {
      "text/plain": [
       "{'neg': 0.541, 'neu': 0.459, 'pos': 0.0, 'compound': -0.9493}"
      ]
     },
     "execution_count": 148,
     "metadata": {},
     "output_type": "execute_result"
    }
   ],
   "source": [
    "text2 = \"Criticism and pessimism destroy families, undermine institutions of all kinds, defeat nearly everyone, and spread a shroud of gloom over entire nations.\"\n",
    "sia.polarity_scores(text2)"
   ]
  },
  {
   "cell_type": "markdown",
   "id": "6d49bdca",
   "metadata": {},
   "source": [
    "As expected VADER predict this sentence as negative."
   ]
  }
 ],
 "metadata": {
  "kernelspec": {
   "display_name": "Python 3 (ipykernel)",
   "language": "python",
   "name": "python3"
  },
  "language_info": {
   "codemirror_mode": {
    "name": "ipython",
    "version": 3
   },
   "file_extension": ".py",
   "mimetype": "text/x-python",
   "name": "python",
   "nbconvert_exporter": "python",
   "pygments_lexer": "ipython3",
   "version": "3.9.7"
  }
 },
 "nbformat": 4,
 "nbformat_minor": 5
}
